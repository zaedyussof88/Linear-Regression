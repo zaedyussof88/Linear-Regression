{
 "cells": [
  {
   "cell_type": "code",
   "execution_count": 1,
   "id": "8459ebf6",
   "metadata": {},
   "outputs": [],
   "source": [
    "import pandas as pd\n",
    "import numpy as np\n",
    "import matplotlib.pyplot as plt"
   ]
  },
  {
   "cell_type": "code",
   "execution_count": 2,
   "id": "af3dc8dd",
   "metadata": {
    "scrolled": true
   },
   "outputs": [
    {
     "data": {
      "text/html": [
       "<div>\n",
       "<style scoped>\n",
       "    .dataframe tbody tr th:only-of-type {\n",
       "        vertical-align: middle;\n",
       "    }\n",
       "\n",
       "    .dataframe tbody tr th {\n",
       "        vertical-align: top;\n",
       "    }\n",
       "\n",
       "    .dataframe thead th {\n",
       "        text-align: right;\n",
       "    }\n",
       "</style>\n",
       "<table border=\"1\" class=\"dataframe\">\n",
       "  <thead>\n",
       "    <tr style=\"text-align: right;\">\n",
       "      <th></th>\n",
       "      <th>Volume</th>\n",
       "      <th>Price</th>\n",
       "    </tr>\n",
       "  </thead>\n",
       "  <tbody>\n",
       "    <tr>\n",
       "      <th>0</th>\n",
       "      <td>10</td>\n",
       "      <td>20</td>\n",
       "    </tr>\n",
       "    <tr>\n",
       "      <th>1</th>\n",
       "      <td>11</td>\n",
       "      <td>25</td>\n",
       "    </tr>\n",
       "    <tr>\n",
       "      <th>2</th>\n",
       "      <td>14</td>\n",
       "      <td>26</td>\n",
       "    </tr>\n",
       "    <tr>\n",
       "      <th>3</th>\n",
       "      <td>16</td>\n",
       "      <td>27</td>\n",
       "    </tr>\n",
       "    <tr>\n",
       "      <th>4</th>\n",
       "      <td>17</td>\n",
       "      <td>24</td>\n",
       "    </tr>\n",
       "  </tbody>\n",
       "</table>\n",
       "</div>"
      ],
      "text/plain": [
       "   Volume  Price\n",
       "0      10     20\n",
       "1      11     25\n",
       "2      14     26\n",
       "3      16     27\n",
       "4      17     24"
      ]
     },
     "execution_count": 2,
     "metadata": {},
     "output_type": "execute_result"
    }
   ],
   "source": [
    "ds = pd.read_csv('simple_LR_dataset.csv')\n",
    "ds.head()"
   ]
  },
  {
   "cell_type": "code",
   "execution_count": 3,
   "id": "4cf2931a",
   "metadata": {},
   "outputs": [
    {
     "name": "stdout",
     "output_type": "stream",
     "text": [
      "    Volume  Price\n",
      "0       10     20\n",
      "1       11     25\n",
      "2       14     26\n",
      "3       16     27\n",
      "4       17     24\n",
      "5       18     30\n",
      "6       19     31\n",
      "7       20     28\n",
      "8       22     36\n",
      "9       24     38\n",
      "10      27     40\n",
      "11      29     42\n",
      "12      32     43\n",
      "13      35     50\n",
      "14      38     48\n",
      "15      42     55\n",
      "16      46     58\n",
      "17      50     60\n",
      "18      58     64\n",
      "19      64     66\n",
      "20      68     70\n",
      "21      70     71\n"
     ]
    }
   ],
   "source": [
    "print(ds)"
   ]
  },
  {
   "cell_type": "code",
   "execution_count": 4,
   "id": "394c9f11",
   "metadata": {},
   "outputs": [],
   "source": [
    "x = ds.iloc[:,:-1].values\n",
    "y = ds.iloc[:,1].values"
   ]
  },
  {
   "cell_type": "code",
   "execution_count": 5,
   "id": "3936133a",
   "metadata": {},
   "outputs": [],
   "source": [
    "from sklearn.model_selection import train_test_split\n",
    "x_train, x_test, y_train, y_test = train_test_split(x, y, test_size = 0.2, random_state = 0)"
   ]
  },
  {
   "cell_type": "markdown",
   "id": "2535f8af",
   "metadata": {},
   "source": [
    "## Use linear regression"
   ]
  },
  {
   "cell_type": "code",
   "execution_count": 6,
   "id": "46f45608",
   "metadata": {},
   "outputs": [
    {
     "name": "stdout",
     "output_type": "stream",
     "text": [
      "The coefficient is: [0.86720851]\n",
      "The y-intercept is: 14.186359624817843\n"
     ]
    }
   ],
   "source": [
    "from sklearn.linear_model import LinearRegression\n",
    "\n",
    "Linear_regressor = LinearRegression()\n",
    "Linear_regressor.fit(x_train, y_train)\n",
    "print('The coefficient is:', Linear_regressor.coef_) # slope coeficient\n",
    "print('The y-intercept is:', Linear_regressor.intercept_) # intercept at y-axis"
   ]
  },
  {
   "cell_type": "markdown",
   "id": "bdaeded8",
   "metadata": {},
   "source": [
    "The linear equation is\n",
    "\n",
    "$ \\text{Price} = 14.186359624817847 +0.86720851 * \\text{Volume} $"
   ]
  },
  {
   "cell_type": "markdown",
   "id": "081ca118",
   "metadata": {},
   "source": [
    "-------------------------------------\n"
   ]
  },
  {
   "cell_type": "code",
   "execution_count": 7,
   "id": "733fbba4",
   "metadata": {},
   "outputs": [],
   "source": [
    "y_pred = Linear_regressor.predict(x_test)"
   ]
  },
  {
   "cell_type": "code",
   "execution_count": 8,
   "id": "0d1deeeb",
   "metadata": {},
   "outputs": [
    {
     "name": "stdout",
     "output_type": "stream",
     "text": [
      "[[1.        0.9885554]\n",
      " [0.9885554 1.       ]]\n"
     ]
    }
   ],
   "source": [
    "#calculate correlation coefficient\n",
    "# corr close to 1 if it is good\n",
    "corr = np.corrcoef(y_pred, y_test)\n",
    "print(corr)"
   ]
  },
  {
   "cell_type": "code",
   "execution_count": 12,
   "id": "30c2d7ca",
   "metadata": {},
   "outputs": [
    {
     "name": "stdout",
     "output_type": "stream",
     "text": [
      "Predicted x  Test x\n",
      "Predicted y  Test y\n",
      "  73.1565      70\n",
      "  37.6010      40\n",
      "  47.1403      48\n",
      "  44.5387      50\n",
      "  23.7257      25\n"
     ]
    }
   ],
   "source": [
    "print('Predicted x  Test x')\n",
    "print('Predicted y  Test y')\n",
    "for i in range(5):\n",
    "    print('  %.4f      %d' %(y_pred[i], y_test[i]))"
   ]
  },
  {
   "cell_type": "code",
   "execution_count": 10,
   "id": "36509bf2",
   "metadata": {},
   "outputs": [
    {
     "data": {
      "text/plain": [
       "array([[68],\n",
       "       [27],\n",
       "       [38],\n",
       "       [35],\n",
       "       [11]], dtype=int64)"
      ]
     },
     "execution_count": 10,
     "metadata": {},
     "output_type": "execute_result"
    }
   ],
   "source": [
    "x_test"
   ]
  },
  {
   "cell_type": "markdown",
   "id": "d7d0b853",
   "metadata": {},
   "source": [
    "## Scatter plot (train set)"
   ]
  },
  {
   "cell_type": "code",
   "execution_count": 13,
   "id": "f858bd8f",
   "metadata": {},
   "outputs": [
    {
     "data": {
      "image/png": "[encoded data removed]",
      "text/plain": [
       "<Figure size 640x480 with 1 Axes>"
      ]
     },
     "metadata": {},
     "output_type": "display_data"
    }
   ],
   "source": [
    "plt.scatter(x_train, y_train, color='blue')\n",
    "plt.plot(x_train, Linear_regressor.predict(x_train), color='red')\n",
    "plt.title('Price vs Volume (Training set)')\n",
    "plt.xlabel('Volume')\n",
    "plt.ylabel('Price')\n",
    "plt.show()"
   ]
  },
  {
   "cell_type": "markdown",
   "id": "943bbecb",
   "metadata": {},
   "source": [
    "## Predict"
   ]
  },
  {
   "cell_type": "markdown",
   "id": "5d436d5c",
   "metadata": {},
   "source": [
    "Questions.\n",
    "\n",
    "Based on the model you have built, if the volume is 65 then what is the price?"
   ]
  },
  {
   "cell_type": "code",
   "execution_count": 14,
   "id": "922db0cf",
   "metadata": {},
   "outputs": [
    {
     "name": "stdout",
     "output_type": "stream",
     "text": [
      "[70.55491246]\n"
     ]
    }
   ],
   "source": [
    "y_predict = Linear_regressor.predict([[65]])\n",
    "print(y_predict)"
   ]
  },
  {
   "cell_type": "code",
   "execution_count": 15,
   "id": "bb18e619",
   "metadata": {},
   "outputs": [
    {
     "name": "stdout",
     "output_type": "stream",
     "text": [
      "[105.24325267]\n"
     ]
    }
   ],
   "source": [
    "y_predict = Linear_regressor.predict([[105]])\n",
    "print(y_predict)"
   ]
  },
  {
   "cell_type": "code",
   "execution_count": 16,
   "id": "54711bb3",
   "metadata": {},
   "outputs": [
    {
     "name": "stdout",
     "output_type": "stream",
     "text": [
      "[187.62806067]\n"
     ]
    }
   ],
   "source": [
    "y_predict = Linear_regressor.predict([[200]])\n",
    "print(y_predict)"
   ]
  },
  {
   "cell_type": "code",
   "execution_count": 17,
   "id": "2f08003d",
   "metadata": {},
   "outputs": [
    {
     "name": "stdout",
     "output_type": "stream",
     "text": [
      "[23.72565318]\n"
     ]
    }
   ],
   "source": [
    "y_predict = Linear_regressor.predict([[11]])\n",
    "print(y_predict)"
   ]
  },
  {
   "cell_type": "markdown",
   "id": "d211e9b4",
   "metadata": {},
   "source": [
    "## Scatter plot (test set)"
   ]
  },
  {
   "cell_type": "code",
   "execution_count": 18,
   "id": "012dedcf",
   "metadata": {},
   "outputs": [
    {
     "data": {
      "image/png": "[encoded data removed]",
      "text/plain": [
       "<Figure size 640x480 with 1 Axes>"
      ]
     },
     "metadata": {},
     "output_type": "display_data"
    }
   ],
   "source": [
    "plt.scatter(x_test, y_test, color='blue')\n",
    "plt.plot(x_test, Linear_regressor.predict(x_test), color='red')\n",
    "plt.title('Price vs Volume (Test set)')\n",
    "plt.xlabel('Volume')\n",
    "plt.ylabel('Price')\n",
    "plt.show()"
   ]
  },
  {
   "cell_type": "code",
   "execution_count": null,
   "id": "2636bc33",
   "metadata": {},
   "outputs": [],
   "source": []
  }
 ],
 "metadata": {
  "kernelspec": {
   "display_name": "Python 3 (ipykernel)",
   "language": "python",
   "name": "python3"
  },
  "language_info": {
   "codemirror_mode": {
    "name": "ipython",
    "version": 3
   },
   "file_extension": ".py",
   "mimetype": "text/x-python",
   "name": "python",
   "nbconvert_exporter": "python",
   "pygments_lexer": "ipython3",
   "version": "3.11.5"
  },
  "toc": {
   "base_numbering": 1,
   "nav_menu": {},
   "number_sections": true,
   "sideBar": true,
   "skip_h1_title": true,
   "title_cell": "Table of Contents",
   "title_sidebar": "Contents",
   "toc_cell": false,
   "toc_position": {
    "height": "calc(100% - 180px)",
    "left": "10px",
    "top": "150px",
    "width": "213.323px"
   },
   "toc_section_display": true,
   "toc_window_display": true
  }
 },
 "nbformat": 4,
 "nbformat_minor": 5
}
