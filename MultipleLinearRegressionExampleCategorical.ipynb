{
 "cells": [
  {
   "cell_type": "code",
   "execution_count": 1,
   "id": "97005f40",
   "metadata": {},
   "outputs": [],
   "source": [
    "import pandas as pd\n",
    "import matplotlib.pyplot as plt\n",
    "import numpy as np"
   ]
  },
  {
   "cell_type": "code",
   "execution_count": 2,
   "id": "130eea5a",
   "metadata": {},
   "outputs": [],
   "source": [
    "from sklearn.linear_model import LinearRegression"
   ]
  },
  {
   "cell_type": "code",
   "execution_count": 3,
   "id": "c72c585b",
   "metadata": {},
   "outputs": [],
   "source": [
    "ds = pd.read_csv('MLR_mix.csv')"
   ]
  },
  {
   "cell_type": "code",
   "execution_count": 4,
   "id": "52583183",
   "metadata": {},
   "outputs": [
    {
     "data": {
      "text/html": [
       "<div>\n",
       "<style scoped>\n",
       "    .dataframe tbody tr th:only-of-type {\n",
       "        vertical-align: middle;\n",
       "    }\n",
       "\n",
       "    .dataframe tbody tr th {\n",
       "        vertical-align: top;\n",
       "    }\n",
       "\n",
       "    .dataframe thead th {\n",
       "        text-align: right;\n",
       "    }\n",
       "</style>\n",
       "<table border=\"1\" class=\"dataframe\">\n",
       "  <thead>\n",
       "    <tr style=\"text-align: right;\">\n",
       "      <th></th>\n",
       "      <th>S&amp;P department (spend)</th>\n",
       "      <th>Admin department(spend)</th>\n",
       "      <th>Operation department(spend)</th>\n",
       "      <th>state</th>\n",
       "      <th>Profit</th>\n",
       "    </tr>\n",
       "  </thead>\n",
       "  <tbody>\n",
       "    <tr>\n",
       "      <th>0</th>\n",
       "      <td>101184</td>\n",
       "      <td>70674</td>\n",
       "      <td>97009</td>\n",
       "      <td>A</td>\n",
       "      <td>259480</td>\n",
       "    </tr>\n",
       "    <tr>\n",
       "      <th>1</th>\n",
       "      <td>70132</td>\n",
       "      <td>52030</td>\n",
       "      <td>63587</td>\n",
       "      <td>B</td>\n",
       "      <td>137019</td>\n",
       "    </tr>\n",
       "    <tr>\n",
       "      <th>2</th>\n",
       "      <td>149539</td>\n",
       "      <td>98535</td>\n",
       "      <td>199994</td>\n",
       "      <td>A</td>\n",
       "      <td>495552</td>\n",
       "    </tr>\n",
       "    <tr>\n",
       "      <th>3</th>\n",
       "      <td>75821</td>\n",
       "      <td>53649</td>\n",
       "      <td>66500</td>\n",
       "      <td>B</td>\n",
       "      <td>165057</td>\n",
       "    </tr>\n",
       "    <tr>\n",
       "      <th>4</th>\n",
       "      <td>97730</td>\n",
       "      <td>68667</td>\n",
       "      <td>91754</td>\n",
       "      <td>B</td>\n",
       "      <td>247841</td>\n",
       "    </tr>\n",
       "  </tbody>\n",
       "</table>\n",
       "</div>"
      ],
      "text/plain": [
       "   S&P department (spend)  Admin department(spend)  \\\n",
       "0                  101184                    70674   \n",
       "1                   70132                    52030   \n",
       "2                  149539                    98535   \n",
       "3                   75821                    53649   \n",
       "4                   97730                    68667   \n",
       "\n",
       "   Operation department(spend) state  Profit  \n",
       "0                        97009     A  259480  \n",
       "1                        63587     B  137019  \n",
       "2                       199994     A  495552  \n",
       "3                        66500     B  165057  \n",
       "4                        91754     B  247841  "
      ]
     },
     "execution_count": 4,
     "metadata": {},
     "output_type": "execute_result"
    }
   ],
   "source": [
    "ds.head()"
   ]
  },
  {
   "cell_type": "code",
   "execution_count": 5,
   "id": "c286724e",
   "metadata": {},
   "outputs": [
    {
     "data": {
      "text/plain": [
       "(50, 5)"
      ]
     },
     "execution_count": 5,
     "metadata": {},
     "output_type": "execute_result"
    }
   ],
   "source": [
    "ds.shape"
   ]
  },
  {
   "cell_type": "code",
   "execution_count": 6,
   "id": "b98cd719",
   "metadata": {},
   "outputs": [],
   "source": [
    "x = ds.iloc[:, :-1].values\n",
    "y = ds.iloc[:, 4].values"
   ]
  },
  {
   "cell_type": "code",
   "execution_count": 7,
   "id": "f8aa939d",
   "metadata": {
    "scrolled": true
   },
   "outputs": [
    {
     "ename": "ValueError",
     "evalue": "could not convert string to float: 'A'",
     "output_type": "error",
     "traceback": [
      "\u001b[1;31m---------------------------------------------------------------------------\u001b[0m",
      "\u001b[1;31mValueError\u001b[0m                                Traceback (most recent call last)",
      "Cell \u001b[1;32mIn[7], line 1\u001b[0m\n\u001b[1;32m----> 1\u001b[0m corr \u001b[38;5;241m=\u001b[39m ds\u001b[38;5;241m.\u001b[39mcorr()\n\u001b[0;32m      2\u001b[0m \u001b[38;5;28mprint\u001b[39m(corr)\n",
      "File \u001b[1;32m~\\anaconda3\\Lib\\site-packages\\pandas\\core\\frame.py:10054\u001b[0m, in \u001b[0;36mDataFrame.corr\u001b[1;34m(self, method, min_periods, numeric_only)\u001b[0m\n\u001b[0;32m  10052\u001b[0m cols \u001b[38;5;241m=\u001b[39m data\u001b[38;5;241m.\u001b[39mcolumns\n\u001b[0;32m  10053\u001b[0m idx \u001b[38;5;241m=\u001b[39m cols\u001b[38;5;241m.\u001b[39mcopy()\n\u001b[1;32m> 10054\u001b[0m mat \u001b[38;5;241m=\u001b[39m data\u001b[38;5;241m.\u001b[39mto_numpy(dtype\u001b[38;5;241m=\u001b[39m\u001b[38;5;28mfloat\u001b[39m, na_value\u001b[38;5;241m=\u001b[39mnp\u001b[38;5;241m.\u001b[39mnan, copy\u001b[38;5;241m=\u001b[39m\u001b[38;5;28;01mFalse\u001b[39;00m)\n\u001b[0;32m  10056\u001b[0m \u001b[38;5;28;01mif\u001b[39;00m method \u001b[38;5;241m==\u001b[39m \u001b[38;5;124m\"\u001b[39m\u001b[38;5;124mpearson\u001b[39m\u001b[38;5;124m\"\u001b[39m:\n\u001b[0;32m  10057\u001b[0m     correl \u001b[38;5;241m=\u001b[39m libalgos\u001b[38;5;241m.\u001b[39mnancorr(mat, minp\u001b[38;5;241m=\u001b[39mmin_periods)\n",
      "File \u001b[1;32m~\\anaconda3\\Lib\\site-packages\\pandas\\core\\frame.py:1838\u001b[0m, in \u001b[0;36mDataFrame.to_numpy\u001b[1;34m(self, dtype, copy, na_value)\u001b[0m\n\u001b[0;32m   1836\u001b[0m \u001b[38;5;28;01mif\u001b[39;00m dtype \u001b[38;5;129;01mis\u001b[39;00m \u001b[38;5;129;01mnot\u001b[39;00m \u001b[38;5;28;01mNone\u001b[39;00m:\n\u001b[0;32m   1837\u001b[0m     dtype \u001b[38;5;241m=\u001b[39m np\u001b[38;5;241m.\u001b[39mdtype(dtype)\n\u001b[1;32m-> 1838\u001b[0m result \u001b[38;5;241m=\u001b[39m \u001b[38;5;28mself\u001b[39m\u001b[38;5;241m.\u001b[39m_mgr\u001b[38;5;241m.\u001b[39mas_array(dtype\u001b[38;5;241m=\u001b[39mdtype, copy\u001b[38;5;241m=\u001b[39mcopy, na_value\u001b[38;5;241m=\u001b[39mna_value)\n\u001b[0;32m   1839\u001b[0m \u001b[38;5;28;01mif\u001b[39;00m result\u001b[38;5;241m.\u001b[39mdtype \u001b[38;5;129;01mis\u001b[39;00m \u001b[38;5;129;01mnot\u001b[39;00m dtype:\n\u001b[0;32m   1840\u001b[0m     result \u001b[38;5;241m=\u001b[39m np\u001b[38;5;241m.\u001b[39marray(result, dtype\u001b[38;5;241m=\u001b[39mdtype, copy\u001b[38;5;241m=\u001b[39m\u001b[38;5;28;01mFalse\u001b[39;00m)\n",
      "File \u001b[1;32m~\\anaconda3\\Lib\\site-packages\\pandas\\core\\internals\\managers.py:1732\u001b[0m, in \u001b[0;36mBlockManager.as_array\u001b[1;34m(self, dtype, copy, na_value)\u001b[0m\n\u001b[0;32m   1730\u001b[0m         arr\u001b[38;5;241m.\u001b[39mflags\u001b[38;5;241m.\u001b[39mwriteable \u001b[38;5;241m=\u001b[39m \u001b[38;5;28;01mFalse\u001b[39;00m\n\u001b[0;32m   1731\u001b[0m \u001b[38;5;28;01melse\u001b[39;00m:\n\u001b[1;32m-> 1732\u001b[0m     arr \u001b[38;5;241m=\u001b[39m \u001b[38;5;28mself\u001b[39m\u001b[38;5;241m.\u001b[39m_interleave(dtype\u001b[38;5;241m=\u001b[39mdtype, na_value\u001b[38;5;241m=\u001b[39mna_value)\n\u001b[0;32m   1733\u001b[0m     \u001b[38;5;66;03m# The underlying data was copied within _interleave, so no need\u001b[39;00m\n\u001b[0;32m   1734\u001b[0m     \u001b[38;5;66;03m# to further copy if copy=True or setting na_value\u001b[39;00m\n\u001b[0;32m   1736\u001b[0m \u001b[38;5;28;01mif\u001b[39;00m na_value \u001b[38;5;129;01mis\u001b[39;00m \u001b[38;5;129;01mnot\u001b[39;00m lib\u001b[38;5;241m.\u001b[39mno_default:\n",
      "File \u001b[1;32m~\\anaconda3\\Lib\\site-packages\\pandas\\core\\internals\\managers.py:1794\u001b[0m, in \u001b[0;36mBlockManager._interleave\u001b[1;34m(self, dtype, na_value)\u001b[0m\n\u001b[0;32m   1792\u001b[0m     \u001b[38;5;28;01melse\u001b[39;00m:\n\u001b[0;32m   1793\u001b[0m         arr \u001b[38;5;241m=\u001b[39m blk\u001b[38;5;241m.\u001b[39mget_values(dtype)\n\u001b[1;32m-> 1794\u001b[0m     result[rl\u001b[38;5;241m.\u001b[39mindexer] \u001b[38;5;241m=\u001b[39m arr\n\u001b[0;32m   1795\u001b[0m     itemmask[rl\u001b[38;5;241m.\u001b[39mindexer] \u001b[38;5;241m=\u001b[39m \u001b[38;5;241m1\u001b[39m\n\u001b[0;32m   1797\u001b[0m \u001b[38;5;28;01mif\u001b[39;00m \u001b[38;5;129;01mnot\u001b[39;00m itemmask\u001b[38;5;241m.\u001b[39mall():\n",
      "\u001b[1;31mValueError\u001b[0m: could not convert string to float: 'A'"
     ]
    }
   ],
   "source": [
    "corr = ds.corr()\n",
    "print(corr)"
   ]
  },
  {
   "cell_type": "markdown",
   "id": "080edf22",
   "metadata": {},
   "source": [
    "---"
   ]
  },
  {
   "cell_type": "markdown",
   "id": "d8132e87",
   "metadata": {},
   "source": [
    "## Handling or Encode categorical variables"
   ]
  },
  {
   "cell_type": "code",
   "execution_count": 8,
   "id": "f617dbc7",
   "metadata": {
    "scrolled": true
   },
   "outputs": [
    {
     "name": "stdout",
     "output_type": "stream",
     "text": [
      "[[1.0 0.0 101184 70674 97009]\n",
      " [0.0 1.0 70132 52030 63587]\n",
      " [1.0 0.0 149539 98535 199994]\n",
      " [0.0 1.0 75821 53649 66500]\n",
      " [0.0 1.0 97730 68667 91754]\n",
      " [0.0 1.0 84544 60923 81618]\n",
      " [1.0 0.0 117490 85379 146277]\n",
      " [0.0 1.0 119913 86499 150579]\n",
      " [0.0 1.0 145244 95108 189066]\n",
      " [1.0 0.0 147217 95598 190309]\n",
      " [0.0 1.0 81746 56815 72351]\n",
      " [1.0 0.0 107967 74058 106215]\n",
      " [1.0 0.0 74692 52493 64267]\n",
      " [1.0 0.0 72228 52210 63719]\n",
      " [0.0 1.0 96292 68521 90007]\n",
      " [1.0 0.0 124506 86995 153382]\n",
      " [0.0 1.0 113543 82796 122345]\n",
      " [1.0 0.0 142585 94589 184603]\n",
      " [1.0 0.0 118057 86227 146948]\n",
      " [1.0 0.0 86260 63082 85320]\n",
      " [1.0 0.0 63601 51026 59932]\n",
      " [1.0 0.0 113200 76388 115984]\n",
      " [0.0 1.0 141331 93725 171453]\n",
      " [1.0 0.0 79667 54864 69102]\n",
      " [0.0 1.0 112208 75407 115316]\n",
      " [1.0 0.0 82622 59754 72987]\n",
      " [0.0 1.0 127721 88888 153477]\n",
      " [0.0 1.0 117901 85532 146822]\n",
      " [0.0 1.0 147364 96275 191812]\n",
      " [1.0 0.0 110661 75404 114864]\n",
      " [0.0 1.0 107360 73604 100773]\n",
      " [0.0 1.0 87194 63403 87468]\n",
      " [1.0 0.0 75381 52575 66116]\n",
      " [1.0 0.0 113427 78653 119763]\n",
      " [0.0 1.0 103004 71720 100065]\n",
      " [0.0 1.0 109249 74209 109578]\n",
      " [0.0 1.0 134157 92647 167690]\n",
      " [1.0 0.0 116481 83866 141719]\n",
      " [0.0 1.0 85908 61800 82411]\n",
      " [0.0 1.0 131088 89489 154742]\n",
      " [1.0 0.0 81818 57716 72492]\n",
      " [0.0 1.0 87227 67434 87488]\n",
      " [1.0 0.0 103666 72280 100346]\n",
      " [0.0 1.0 134089 91457 166994]\n",
      " [1.0 0.0 100846 69194 95680]\n",
      " [0.0 1.0 63540 50907 57776]\n",
      " [1.0 0.0 114384 83388 126691]\n",
      " [0.0 1.0 53199 50191 52911]\n",
      " [1.0 0.0 131777 89570 160129]\n",
      " [1.0 0.0 110643 74362 112527]]\n"
     ]
    }
   ],
   "source": [
    "from sklearn.preprocessing import LabelEncoder, OneHotEncoder\n",
    "from sklearn.compose import ColumnTransformer\n",
    "\n",
    "labelencoder_x = LabelEncoder()\n",
    "x[:, 3] = labelencoder_x.fit_transform(x[:, 3])\n",
    "\n",
    "ct = ColumnTransformer([(\"State\", OneHotEncoder(), [3])], remainder = 'passthrough')\n",
    "x = ct.fit_transform(x)\n",
    "print(x)\n"
   ]
  },
  {
   "cell_type": "markdown",
   "id": "814d8ec5",
   "metadata": {},
   "source": [
    "**Drop one of the columns after encoding.**"
   ]
  },
  {
   "cell_type": "code",
   "execution_count": 9,
   "id": "ad2450f2",
   "metadata": {
    "scrolled": true
   },
   "outputs": [
    {
     "name": "stdout",
     "output_type": "stream",
     "text": [
      "[[0.0 101184 70674 97009]\n",
      " [1.0 70132 52030 63587]\n",
      " [0.0 149539 98535 199994]\n",
      " [1.0 75821 53649 66500]\n",
      " [1.0 97730 68667 91754]\n",
      " [1.0 84544 60923 81618]\n",
      " [0.0 117490 85379 146277]\n",
      " [1.0 119913 86499 150579]\n",
      " [1.0 145244 95108 189066]\n",
      " [0.0 147217 95598 190309]\n",
      " [1.0 81746 56815 72351]\n",
      " [0.0 107967 74058 106215]\n",
      " [0.0 74692 52493 64267]\n",
      " [0.0 72228 52210 63719]\n",
      " [1.0 96292 68521 90007]\n",
      " [0.0 124506 86995 153382]\n",
      " [1.0 113543 82796 122345]\n",
      " [0.0 142585 94589 184603]\n",
      " [0.0 118057 86227 146948]\n",
      " [0.0 86260 63082 85320]\n",
      " [0.0 63601 51026 59932]\n",
      " [0.0 113200 76388 115984]\n",
      " [1.0 141331 93725 171453]\n",
      " [0.0 79667 54864 69102]\n",
      " [1.0 112208 75407 115316]\n",
      " [0.0 82622 59754 72987]\n",
      " [1.0 127721 88888 153477]\n",
      " [1.0 117901 85532 146822]\n",
      " [1.0 147364 96275 191812]\n",
      " [0.0 110661 75404 114864]\n",
      " [1.0 107360 73604 100773]\n",
      " [1.0 87194 63403 87468]\n",
      " [0.0 75381 52575 66116]\n",
      " [0.0 113427 78653 119763]\n",
      " [1.0 103004 71720 100065]\n",
      " [1.0 109249 74209 109578]\n",
      " [1.0 134157 92647 167690]\n",
      " [0.0 116481 83866 141719]\n",
      " [1.0 85908 61800 82411]\n",
      " [1.0 131088 89489 154742]\n",
      " [0.0 81818 57716 72492]\n",
      " [1.0 87227 67434 87488]\n",
      " [0.0 103666 72280 100346]\n",
      " [1.0 134089 91457 166994]\n",
      " [0.0 100846 69194 95680]\n",
      " [1.0 63540 50907 57776]\n",
      " [0.0 114384 83388 126691]\n",
      " [1.0 53199 50191 52911]\n",
      " [0.0 131777 89570 160129]\n",
      " [0.0 110643 74362 112527]]\n"
     ]
    }
   ],
   "source": [
    "x = x[:, 1:]\n",
    "print(x)"
   ]
  },
  {
   "cell_type": "markdown",
   "id": "aa9d7d51",
   "metadata": {},
   "source": [
    "---"
   ]
  },
  {
   "cell_type": "markdown",
   "id": "c0074c0c",
   "metadata": {},
   "source": [
    "## Use Multiple Linear Regression"
   ]
  },
  {
   "cell_type": "code",
   "execution_count": 10,
   "id": "8dcb3211",
   "metadata": {},
   "outputs": [
    {
     "data": {
      "text/html": [
       "<style>#sk-container-id-1 {color: black;}#sk-container-id-1 pre{padding: 0;}#sk-container-id-1 div.sk-toggleable {background-color: white;}#sk-container-id-1 label.sk-toggleable__label {cursor: pointer;display: block;width: 100%;margin-bottom: 0;padding: 0.3em;box-sizing: border-box;text-align: center;}#sk-container-id-1 label.sk-toggleable__label-arrow:before {content: \"▸\";float: left;margin-right: 0.25em;color: #696969;}#sk-container-id-1 label.sk-toggleable__label-arrow:hover:before {color: black;}#sk-container-id-1 div.sk-estimator:hover label.sk-toggleable__label-arrow:before {color: black;}#sk-container-id-1 div.sk-toggleable__content {max-height: 0;max-width: 0;overflow: hidden;text-align: left;background-color: #f0f8ff;}#sk-container-id-1 div.sk-toggleable__content pre {margin: 0.2em;color: black;border-radius: 0.25em;background-color: #f0f8ff;}#sk-container-id-1 input.sk-toggleable__control:checked~div.sk-toggleable__content {max-height: 200px;max-width: 100%;overflow: auto;}#sk-container-id-1 input.sk-toggleable__control:checked~label.sk-toggleable__label-arrow:before {content: \"▾\";}#sk-container-id-1 div.sk-estimator input.sk-toggleable__control:checked~label.sk-toggleable__label {background-color: #d4ebff;}#sk-container-id-1 div.sk-label input.sk-toggleable__control:checked~label.sk-toggleable__label {background-color: #d4ebff;}#sk-container-id-1 input.sk-hidden--visually {border: 0;clip: rect(1px 1px 1px 1px);clip: rect(1px, 1px, 1px, 1px);height: 1px;margin: -1px;overflow: hidden;padding: 0;position: absolute;width: 1px;}#sk-container-id-1 div.sk-estimator {font-family: monospace;background-color: #f0f8ff;border: 1px dotted black;border-radius: 0.25em;box-sizing: border-box;margin-bottom: 0.5em;}#sk-container-id-1 div.sk-estimator:hover {background-color: #d4ebff;}#sk-container-id-1 div.sk-parallel-item::after {content: \"\";width: 100%;border-bottom: 1px solid gray;flex-grow: 1;}#sk-container-id-1 div.sk-label:hover label.sk-toggleable__label {background-color: #d4ebff;}#sk-container-id-1 div.sk-serial::before {content: \"\";position: absolute;border-left: 1px solid gray;box-sizing: border-box;top: 0;bottom: 0;left: 50%;z-index: 0;}#sk-container-id-1 div.sk-serial {display: flex;flex-direction: column;align-items: center;background-color: white;padding-right: 0.2em;padding-left: 0.2em;position: relative;}#sk-container-id-1 div.sk-item {position: relative;z-index: 1;}#sk-container-id-1 div.sk-parallel {display: flex;align-items: stretch;justify-content: center;background-color: white;position: relative;}#sk-container-id-1 div.sk-item::before, #sk-container-id-1 div.sk-parallel-item::before {content: \"\";position: absolute;border-left: 1px solid gray;box-sizing: border-box;top: 0;bottom: 0;left: 50%;z-index: -1;}#sk-container-id-1 div.sk-parallel-item {display: flex;flex-direction: column;z-index: 1;position: relative;background-color: white;}#sk-container-id-1 div.sk-parallel-item:first-child::after {align-self: flex-end;width: 50%;}#sk-container-id-1 div.sk-parallel-item:last-child::after {align-self: flex-start;width: 50%;}#sk-container-id-1 div.sk-parallel-item:only-child::after {width: 0;}#sk-container-id-1 div.sk-dashed-wrapped {border: 1px dashed gray;margin: 0 0.4em 0.5em 0.4em;box-sizing: border-box;padding-bottom: 0.4em;background-color: white;}#sk-container-id-1 div.sk-label label {font-family: monospace;font-weight: bold;display: inline-block;line-height: 1.2em;}#sk-container-id-1 div.sk-label-container {text-align: center;}#sk-container-id-1 div.sk-container {/* jupyter's `normalize.less` sets `[hidden] { display: none; }` but bootstrap.min.css set `[hidden] { display: none !important; }` so we also need the `!important` here to be able to override the default hidden behavior on the sphinx rendered scikit-learn.org. See: https://github.com/scikit-learn/scikit-learn/issues/21755 */display: inline-block !important;position: relative;}#sk-container-id-1 div.sk-text-repr-fallback {display: none;}</style><div id=\"sk-container-id-1\" class=\"sk-top-container\"><div class=\"sk-text-repr-fallback\"><pre>LinearRegression()</pre><b>In a Jupyter environment, please rerun this cell to show the HTML representation or trust the notebook. <br />On GitHub, the HTML representation is unable to render, please try loading this page with nbviewer.org.</b></div><div class=\"sk-container\" hidden><div class=\"sk-item\"><div class=\"sk-estimator sk-toggleable\"><input class=\"sk-toggleable__control sk-hidden--visually\" id=\"sk-estimator-id-1\" type=\"checkbox\" checked><label for=\"sk-estimator-id-1\" class=\"sk-toggleable__label sk-toggleable__label-arrow\">LinearRegression</label><div class=\"sk-toggleable__content\"><pre>LinearRegression()</pre></div></div></div></div></div>"
      ],
      "text/plain": [
       "LinearRegression()"
      ]
     },
     "execution_count": 10,
     "metadata": {},
     "output_type": "execute_result"
    }
   ],
   "source": [
    "regressor = LinearRegression()\n",
    "regressor.fit(x,y)"
   ]
  },
  {
   "cell_type": "code",
   "execution_count": 11,
   "id": "0758ef53",
   "metadata": {
    "scrolled": true
   },
   "outputs": [
    {
     "name": "stdout",
     "output_type": "stream",
     "text": [
      "The coefficient is: [-7.54636193e+03  4.93526669e-01  6.74031082e+00 -5.15357914e-02]\n",
      "The y-intercept is: -234499.13681915222\n"
     ]
    }
   ],
   "source": [
    "print('The coefficient is:', regressor.coef_)\n",
    "print('The y-intercept is:', regressor.intercept_)"
   ]
  },
  {
   "cell_type": "markdown",
   "id": "5cb98c4b",
   "metadata": {},
   "source": [
    "The multiple linear equation is\n",
    "$$ \\text{Profit} = -234499.13 -0.00753 \\times \\text{S&P department (spend)} + 0.4935 \\times \\text{Admin department(spend)} + 6.7403 \\times \\text{Operation department(spend)} - 0.0515 \\times \\text{state}$$"
   ]
  },
  {
   "cell_type": "markdown",
   "id": "5613c96b",
   "metadata": {},
   "source": [
    "---"
   ]
  },
  {
   "cell_type": "markdown",
   "id": "af3987ca",
   "metadata": {},
   "source": [
    "## Predict"
   ]
  },
  {
   "cell_type": "markdown",
   "id": "34ac3b77",
   "metadata": {},
   "source": [
    "# Question\n",
    "\n",
    "Estimate the profit gained if S&P department spend RM90020, Admin department spend RM55200, \n",
    "Operation department spend RM94230 and the state is B"
   ]
  },
  {
   "cell_type": "code",
   "execution_count": 12,
   "id": "d5021359",
   "metadata": {},
   "outputs": [
    {
     "name": "stdout",
     "output_type": "stream",
     "text": [
      "[169590.71175309]\n"
     ]
    }
   ],
   "source": [
    "a = [[1.0, 90020, 55200, 94230]]\n",
    "y_predict = regressor.predict(a)\n",
    "print(y_predict)"
   ]
  },
  {
   "cell_type": "code",
   "execution_count": 14,
   "id": "f4dce38b",
   "metadata": {},
   "outputs": [
    {
     "name": "stdout",
     "output_type": "stream",
     "text": [
      "[177137.07368062]\n"
     ]
    }
   ],
   "source": [
    "b = [[0, 90020, 55200, 94230]]\n",
    "y_predict = regressor.predict(b)\n",
    "print(y_predict)"
   ]
  }
 ],
 "metadata": {
  "kernelspec": {
   "display_name": "Python 3 (ipykernel)",
   "language": "python",
   "name": "python3"
  },
  "language_info": {
   "codemirror_mode": {
    "name": "ipython",
    "version": 3
   },
   "file_extension": ".py",
   "mimetype": "text/x-python",
   "name": "python",
   "nbconvert_exporter": "python",
   "pygments_lexer": "ipython3",
   "version": "3.11.5"
  },
  "toc": {
   "base_numbering": 1,
   "nav_menu": {},
   "number_sections": true,
   "sideBar": true,
   "skip_h1_title": true,
   "title_cell": "Table of Contents",
   "title_sidebar": "Contents",
   "toc_cell": false,
   "toc_position": {
    "height": "calc(100% - 180px)",
    "left": "10px",
    "top": "150px",
    "width": "213.323px"
   },
   "toc_section_display": true,
   "toc_window_display": true
  }
 },
 "nbformat": 4,
 "nbformat_minor": 5
}
